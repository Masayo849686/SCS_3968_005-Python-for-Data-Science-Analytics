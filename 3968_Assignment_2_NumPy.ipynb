{
 "cells": [
  {
   "attachments": {},
   "cell_type": "markdown",
   "metadata": {},
   "source": [
    "# Python for Data Science - Assignment 2\n",
    "\n",
    "## Assignment Objectives\n",
    "\n",
    "The objectives of this assignment are to test your understanding of the NumPy library, including:\n",
    "\n",
    "* Creating and manipulating multi-dimensional arrays\n",
    "* Performing operations on arrays\n",
    "\n",
    "\n",
    "## Assignment Instructions\n",
    "\n",
    "For each of the questions below, write Python code to produce the answer. Be sure to run your code and display the output.\n",
    "\n",
    "To submit the assignment, save your Jupyter notebook and submit the file in Quercus."
   ]
  },
  {
   "attachments": {},
   "cell_type": "markdown",
   "metadata": {},
   "source": [
    "### Question 1 (5 marks):\n",
    "\n",
    "Combine the following lists into a 1-d array. Use the 'shape' attribute to display the shape of the array.\n",
    "* [1,2,3]\n",
    "* [4,5,6]\n",
    "* [8,7,9]\n",
    "\n",
    "After the 1-d array has been created, reshape the the array into a 2-d array with dimensions (3,3)\n"
   ]
  },
  {
   "cell_type": "code",
   "execution_count": 2,
   "metadata": {},
   "outputs": [
    {
     "data": {
      "text/plain": [
       "(9,)"
      ]
     },
     "execution_count": 2,
     "metadata": {},
     "output_type": "execute_result"
    }
   ],
   "source": [
    "import numpy as np\n",
    "\n",
    "arr1 = np.array([1,2,3])\n",
    "arr2 = np.array([4,5,6])\n",
    "arr3 = np.array([8,7,9])\n",
    "\n",
    "arr_combine = np.concatenate((arr1, arr2, arr3))\n",
    "arr_combine.shape"
   ]
  },
  {
   "cell_type": "code",
   "execution_count": 7,
   "metadata": {},
   "outputs": [
    {
     "data": {
      "text/plain": [
       "array([[1, 2, 3],\n",
       "       [4, 5, 6],\n",
       "       [8, 7, 9]])"
      ]
     },
     "execution_count": 7,
     "metadata": {},
     "output_type": "execute_result"
    }
   ],
   "source": [
    "arr_combine.reshape((3,3))\n"
   ]
  },
  {
   "attachments": {},
   "cell_type": "markdown",
   "metadata": {},
   "source": [
    "### Question 2 (5 marks):\n",
    "\n",
    "Define a custom function to sum up the elements of a 1-d, 2-d, or 3-d array. Test your function on the following arrays:\n",
    "\n",
    "* [1,2,3,4,5]\n",
    "* [[1,3,4,5],[1,4,5,7]]\n",
    "* [[[1,3,4,5],[1,4,5,7]],[[6,7,8,9],[7,8,7,6]]]"
   ]
  },
  {
   "cell_type": "code",
   "execution_count": 11,
   "metadata": {},
   "outputs": [
    {
     "data": {
      "text/plain": [
       "15"
      ]
     },
     "execution_count": 11,
     "metadata": {},
     "output_type": "execute_result"
    }
   ],
   "source": [
    "arr2_1 = np.array([1,2,3,4,5])\n",
    "arr2_2 = np.array([[1,3,4,5],[1,4,5,7]])\n",
    "arr2_3 = np.array([[[1,3,4,5],[1,4,5,7]],[[6,7,8,9],[7,8,7,6]]])\n",
    "\n",
    "def arr_sum (arr):\n",
    "    return np.sum(arr)\n",
    "\n",
    "arr_sum(arr2_1)"
   ]
  },
  {
   "cell_type": "code",
   "execution_count": 12,
   "metadata": {},
   "outputs": [
    {
     "data": {
      "text/plain": [
       "30"
      ]
     },
     "execution_count": 12,
     "metadata": {},
     "output_type": "execute_result"
    }
   ],
   "source": [
    "arr_sum(arr2_2)"
   ]
  },
  {
   "cell_type": "code",
   "execution_count": 13,
   "metadata": {},
   "outputs": [
    {
     "data": {
      "text/plain": [
       "88"
      ]
     },
     "execution_count": 13,
     "metadata": {},
     "output_type": "execute_result"
    }
   ],
   "source": [
    "arr_sum(arr2_3)"
   ]
  },
  {
   "attachments": {},
   "cell_type": "markdown",
   "metadata": {},
   "source": [
    "### Question 3 (5 marks):\n",
    "\n",
    "Write a custom function to return the first and last element of a 1-d, 2-d, or 3-d array. Test your function on the following arrays:\n",
    "\n",
    "* [1,2,3,4,5]\n",
    "* [[1,3,4,5],[1,4,5,7]]\n",
    "* [[[1,3,4,5],[1,4,5,7]],[[6,7,8,9],[7,8,7,6]]]"
   ]
  },
  {
   "cell_type": "code",
   "execution_count": 3,
   "metadata": {},
   "outputs": [
    {
     "data": {
      "text/plain": [
       "(1, 5)"
      ]
     },
     "execution_count": 3,
     "metadata": {},
     "output_type": "execute_result"
    }
   ],
   "source": [
    "arr3_1 = np.array([1,2,3,4,5])\n",
    "arr3_2 = np.array([[1,3,4,5],[1,4,5,7]])\n",
    "arr3_3 = np.array([[[1,3,4,5],[1,4,5,7]],[[6,7,8,9],[7,8,7,6]]])\n",
    "\n",
    "def first_last(arr):\n",
    "    return arr.flat[0], arr.flat[-1]\n",
    "\n",
    "first_last(arr3_1)"
   ]
  },
  {
   "cell_type": "code",
   "execution_count": 4,
   "metadata": {},
   "outputs": [
    {
     "data": {
      "text/plain": [
       "(1, 7)"
      ]
     },
     "execution_count": 4,
     "metadata": {},
     "output_type": "execute_result"
    }
   ],
   "source": [
    "first_last(arr3_2)"
   ]
  },
  {
   "cell_type": "code",
   "execution_count": 5,
   "metadata": {},
   "outputs": [
    {
     "data": {
      "text/plain": [
       "(1, 6)"
      ]
     },
     "execution_count": 5,
     "metadata": {},
     "output_type": "execute_result"
    }
   ],
   "source": [
    "first_last(arr3_3)"
   ]
  }
 ],
 "metadata": {
  "kernelspec": {
   "display_name": "Python 3",
   "language": "python",
   "name": "python3"
  },
  "language_info": {
   "codemirror_mode": {
    "name": "ipython",
    "version": 3
   },
   "file_extension": ".py",
   "mimetype": "text/x-python",
   "name": "python",
   "nbconvert_exporter": "python",
   "pygments_lexer": "ipython3",
   "version": "3.9.13"
  }
 },
 "nbformat": 4,
 "nbformat_minor": 4
}
